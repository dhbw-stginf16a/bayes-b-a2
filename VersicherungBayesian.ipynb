{
 "cells": [
  {
   "cell_type": "code",
   "execution_count": 1,
   "metadata": {},
   "outputs": [],
   "source": [
    "import pandas as pd\n",
    "import numpy as np\n",
    "from pgmpy.models import BayesianModel\n",
    "import pgmpy.inference"
   ]
  },
  {
   "cell_type": "code",
   "execution_count": 2,
   "metadata": {
    "scrolled": true
   },
   "outputs": [],
   "source": [
    "def normalizeKindAge(age):\n",
    "    if age == \"n.a.\":\n",
    "        return \"n.a.\";\n",
    "    elif int(age) < 10:\n",
    "        return \"<10\"\n",
    "    elif int(age) < 18:\n",
    "        return \"<18\"\n",
    "    elif int(age) < 25:\n",
    "        return \"<25\"\n",
    "    else:\n",
    "        return \">25\"\n",
    "\n",
    "def normalizeIncome(income):\n",
    "    income = int(income)\n",
    "    if income < 20000:\n",
    "        return \"<20000\"\n",
    "    elif income < 40000:\n",
    "        return \"<40000\"\n",
    "    elif income < 80000:\n",
    "        return \"<80000\"\n",
    "    elif income < 100000:\n",
    "        return \"<100000\"\n",
    "    else:\n",
    "        return \">100000\""
   ]
  },
  {
   "cell_type": "code",
   "execution_count": 3,
   "metadata": {},
   "outputs": [],
   "source": [
    "data = pd.read_csv('versicherung_x.csv', delimiter=';')\n",
    "data = data.sample(frac=1).reset_index(drop=True)  # Shuffle data\n",
    "#raw_data.loc[raw_data['aeltestesKind'] != \"n.a.\", 'aeltestesKind'].apply(int).plot.kde()\n",
    "data['aeltestesKind'] = data['aeltestesKind'].apply(normalizeKindAge)\n",
    "data['juengstesKind'] = data['juengstesKind'].apply(normalizeKindAge)\n",
    "data['Familieneinkommen'] = data['Familieneinkommen'].apply(normalizeIncome)"
   ]
  },
  {
   "cell_type": "code",
   "execution_count": 4,
   "metadata": {},
   "outputs": [
    {
     "name": "stdout",
     "output_type": "stream",
     "text": [
      "{'Altersgruppe': ['18-25', '26-35', '36-49', '50-65', '66-'], 'Geschlecht': ['w', 'm'], 'Verheiratet': ['nein', 'ja'], 'Kinderzahl': [1, 2, 3, 0, 4], 'aeltestesKind': ['<10', 'n.a.', '<18', '<25', '>25'], 'juengstesKind': ['<10', 'n.a.', '<18', '>25', '<25'], 'Bildungsstand': ['Hauptschule', 'Studium', 'Lehre', 'Gymnasium'], 'Beruf': ['Handwerk', 'Handel', 'Industrie', 'Oeffentlicher Dienst'], 'Familieneinkommen': ['<40000', '<100000', '<80000', '<20000', '>100000'], 'Wohnverhaeltnis': ['Miete', 'Eigentum'], 'Ort': ['urban', 'laendlich'], 'Land': ['Bayern', 'Hessen', 'Baden-Wuerttemberg'], 'Aktienbesitz': ['nein', 'ja'], 'Tarif': ['B', 'A']}\n"
     ]
    }
   ],
   "source": [
    "state_names = {}\n",
    "for name in list(data):\n",
    "    state_names[name] = list(data[name].unique())\n",
    "print(state_names)"
   ]
  },
  {
   "cell_type": "code",
   "execution_count": 5,
   "metadata": {
    "scrolled": false
   },
   "outputs": [],
   "source": [
    "def train(model, df, split=0.75):\n",
    "    train = df[:int(len(df) * split)]\n",
    "    model.fit(train, state_names=state_names)\n",
    "\n",
    "def evaluate(model, df, split=0.75):\n",
    "    test = df[int(len(df) * (split-1)):]\n",
    "    result = model.predict(test.drop(\"Tarif\", 1))\n",
    "    result[\"Expected\"] = test[\"Tarif\"]\n",
    "    tests = len(result)\n",
    "    hits = np.where(result[\"Expected\"] == result[\"Tarif\"], [1 for x in range(tests)], [0 for x in range(tests)])\n",
    "    print(\"Predicted Tarif with an accuracy of: {}\".format(sum(hits) / tests))\n",
    "    #print(result)"
   ]
  },
  {
   "cell_type": "code",
   "execution_count": 6,
   "metadata": {
    "scrolled": true
   },
   "outputs": [],
   "source": [
    "# Custom Network\n",
    "custom_net = [\n",
    "(\"Altersgruppe\", \"Bildungsstand\"),\n",
    "(\"Altersgruppe\", \"aeltestesKind\"),\n",
    "(\"Altersgruppe\", \"juengstesKind\"),\n",
    "(\"Altersgruppe\", \"Wohnverhaeltnis\"),\n",
    "(\"Altersgruppe\", \"Tarif\"),\n",
    "\n",
    "(\"Geschlecht\", \"Tarif\"),\n",
    "\n",
    "(\"Verheiratet\", \"Beruf\"),\n",
    "(\"Verheiratet\", \"Kinderzahl\"),\n",
    "\n",
    "(\"Kinderzahl\", \"Wohnverhaeltnis\"),\n",
    "(\"Kinderzahl\", \"Tarif\"),\n",
    "\n",
    "(\"aeltestesKind\", \"Wohnverhaeltnis\"),\n",
    "\n",
    "(\"juengstesKind\", \"Wohnverhaeltnis\"),\n",
    "\n",
    "(\"Bildungsstand\", \"Beruf\"),\n",
    "(\"Bildungsstand\", \"Aktienbesitz\"),\n",
    "\n",
    "(\"Beruf\", \"Familieneinkommen\"),\n",
    "\n",
    "(\"Familieneinkommen\", \"Tarif\"),\n",
    "(\"Familieneinkommen\", \"Wohnverhaeltnis\"),\n",
    "\n",
    "(\"Wohnverhaeltnis\", \"Tarif\"),\n",
    "\n",
    "(\"Ort\", \"Land\"),\n",
    "(\"Ort\", \"Wohnverhaeltnis\"),\n",
    "\n",
    "(\"Land\", \"Tarif\"),\n",
    "\n",
    "(\"Aktienbesitz\", \"Familieneinkommen\")\n",
    "]"
   ]
  },
  {
   "cell_type": "code",
   "execution_count": 7,
   "metadata": {},
   "outputs": [],
   "source": [
    "# Network built with OpenMarkov\n",
    "markov_net = [\n",
    "(\"Altersgruppe\", \"Kinderzahl\"),\n",
    "\n",
    "(\"Verheiratet\", \"Geschlecht\"),\n",
    "(\"Verheiratet\", \"Ort\"),\n",
    "\n",
    "(\"Kinderzahl\", \"juengstesKind\"),\n",
    "(\"Kinderzahl\", \"Verheiratet\"),\n",
    "\n",
    "(\"juengstesKind\", \"aeltestesKind\"),\n",
    "(\"juengstesKind\", \"Ort\"),\n",
    "\n",
    "(\"Bildungsstand\", \"Beruf\"),\n",
    "(\"Bildungsstand\", \"Aktienbesitz\"),\n",
    "(\"Bildungsstand\", \"Wohnverhaeltnis\"),\n",
    "(\"Bildungsstand\", \"Familieneinkommen\"),\n",
    "(\"Bildungsstand\", \"Altersgruppe\"),\n",
    "\n",
    "(\"Familieneinkommen\", \"Altersgruppe\"),\n",
    "\n",
    "(\"Wohnverhaeltnis\", \"Tarif\"),\n",
    "(\"Wohnverhaeltnis\", \"Ort\"),\n",
    "(\"Wohnverhaeltnis\", \"Land\"),\n",
    "\n",
    "(\"Tarif\", \"Land\"),\n",
    "]"
   ]
  },
  {
   "cell_type": "code",
   "execution_count": 8,
   "metadata": {},
   "outputs": [],
   "source": [
    "# Network all nodes to Tarif\n",
    "# Actually not using all variables because it would take too long to train\n",
    "\n",
    "simple_net = [\n",
    "(\"Altersgruppe\", \"Tarif\"),\n",
    "\n",
    "#(\"Geschlecht\", \"Tarif\"),\n",
    "\n",
    "(\"Verheiratet\", \"Tarif\"),\n",
    "\n",
    "(\"Kinderzahl\", \"Tarif\"),\n",
    "\n",
    "#(\"aeltestesKind\", \"Tarif\"),\n",
    "\n",
    "#(\"juengstesKind\", \"Tarif\"),\n",
    "\n",
    "#(\"Bildungsstand\", \"Tarif\"),\n",
    "\n",
    "(\"Beruf\", \"Tarif\"),\n",
    "\n",
    "(\"Familieneinkommen\", \"Tarif\"),\n",
    "\n",
    "(\"Wohnverhaeltnis\", \"Tarif\"),\n",
    "\n",
    "#(\"Ort\", \"Tarif\"),\n",
    "\n",
    "#(\"Land\", \"Tarif\"),\n",
    "\n",
    "(\"Aktienbesitz\", \"Tarif\"),\n",
    "]\n",
    "less_data = data.copy().drop(['Geschlecht', 'aeltestesKind', 'juengstesKind', 'Bildungsstand', 'Ort', 'Land'], axis=1)"
   ]
  },
  {
   "cell_type": "code",
   "execution_count": 9,
   "metadata": {},
   "outputs": [
    {
     "name": "stdout",
     "output_type": "stream",
     "text": [
      "Split: 25.0%\n",
      "Predicted Tarif with an accuracy of: 0.28\n",
      "Predicted Tarif with an accuracy of: 0.3\n",
      "Predicted Tarif with an accuracy of: 0.8\n",
      "\n",
      "\n",
      "Split: 50.0%\n",
      "Predicted Tarif with an accuracy of: 0.44\n",
      "Predicted Tarif with an accuracy of: 0.37\n",
      "Predicted Tarif with an accuracy of: 0.87\n",
      "\n",
      "\n",
      "Split: 75.0%\n",
      "Predicted Tarif with an accuracy of: 0.42\n",
      "Predicted Tarif with an accuracy of: 0.36\n",
      "Predicted Tarif with an accuracy of: 0.92\n",
      "\n",
      "\n"
     ]
    }
   ],
   "source": [
    "for split in [0.25, 0.5, 0.75]:\n",
    "    print('Split: {}%'.format(split * 100))\n",
    "    for net in [custom_net, simple_net, markov_net]:\n",
    "        df = data.copy()\n",
    "        if net == simple_net:\n",
    "            df = df.drop(['Geschlecht', 'aeltestesKind', 'juengstesKind', 'Bildungsstand', 'Ort', 'Land'], axis=1)\n",
    "        model = BayesianModel(net)\n",
    "        train(model, df, split=split)\n",
    "        evaluate(model, df, split=split)\n",
    "    print('\\n')"
   ]
  },
  {
   "cell_type": "code",
   "execution_count": null,
   "metadata": {},
   "outputs": [],
   "source": []
  }
 ],
 "metadata": {
  "kernelspec": {
   "display_name": "Python 3",
   "language": "python",
   "name": "python3"
  },
  "language_info": {
   "codemirror_mode": {
    "name": "ipython",
    "version": 3
   },
   "file_extension": ".py",
   "mimetype": "text/x-python",
   "name": "python",
   "nbconvert_exporter": "python",
   "pygments_lexer": "ipython3",
   "version": "3.7.1"
  }
 },
 "nbformat": 4,
 "nbformat_minor": 2
}
