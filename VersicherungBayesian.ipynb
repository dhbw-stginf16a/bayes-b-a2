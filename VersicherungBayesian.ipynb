{
 "cells": [
  {
   "cell_type": "code",
   "execution_count": 1,
   "metadata": {},
   "outputs": [],
   "source": [
    "import pandas as pd\n",
    "import numpy as np\n",
    "from pgmpy.models import BayesianModel\n",
    "import pgmpy.inference"
   ]
  },
  {
   "cell_type": "code",
   "execution_count": 2,
   "metadata": {
    "scrolled": true
   },
   "outputs": [],
   "source": [
    "def normalizeKindAge(age):\n",
    "    if age == \"n.a.\":\n",
    "        return \"n.a.\";\n",
    "    elif int(age) > 18:\n",
    "        return \">18\"\n",
    "    else:\n",
    "        return \"<18\"\n",
    "\n",
    "def normalizeIncome(income):\n",
    "    income = int(income)\n",
    "    if income < 20000:\n",
    "        return \"<20000\"\n",
    "    elif income < 40000:\n",
    "        return \"<40000\"\n",
    "    elif income < 60000:\n",
    "        return \"<60000\"\n",
    "    elif income < 80000:\n",
    "        return \"<80000\"\n",
    "    elif income < 100000:\n",
    "        return \"<100000\"\n",
    "    else:\n",
    "        return \">100000\""
   ]
  },
  {
   "cell_type": "code",
   "execution_count": 3,
   "metadata": {},
   "outputs": [],
   "source": [
    "data = pd.read_csv('versicherung_x.csv', delimiter=';')\n",
    "data['aeltestesKind'] = data['aeltestesKind'].apply(normalizeKindAge)\n",
    "data['juengstesKind'] = data['juengstesKind'].apply(normalizeKindAge)\n",
    "data['Familieneinkommen'] = data['Familieneinkommen'].apply(normalizeIncome)"
   ]
  },
  {
   "cell_type": "code",
   "execution_count": 4,
   "metadata": {
    "scrolled": false
   },
   "outputs": [],
   "source": [
    "net = [\n",
    "(\"Altersgruppe\", \"Bildungsstand\"),\n",
    "(\"Altersgruppe\", \"aeltestesKind\"),\n",
    "(\"Altersgruppe\", \"juengstesKind\"),\n",
    "(\"Altersgruppe\", \"Wohnverhaeltnis\"),\n",
    "(\"Altersgruppe\", \"Tarif\"),\n",
    "\n",
    "(\"Geschlecht\", \"Tarif\"),\n",
    "\n",
    "(\"Verheiratet\", \"Beruf\"),\n",
    "(\"Verheiratet\", \"Kinderzahl\"),\n",
    "\n",
    "(\"Kinderzahl\", \"Wohnverhaeltnis\"),\n",
    "(\"Kinderzahl\", \"Tarif\"),\n",
    "\n",
    "(\"aeltestesKind\", \"Wohnverhaeltnis\"),\n",
    "\n",
    "(\"juengstesKind\", \"Wohnverhaeltnis\"),\n",
    "\n",
    "(\"Bildungsstand\", \"Beruf\"),\n",
    "(\"Bildungsstand\", \"Aktienbesitz\"),\n",
    "\n",
    "(\"Beruf\", \"Familieneinkommen\"),\n",
    "\n",
    "(\"Familieneinkommen\", \"Tarif\"),\n",
    "(\"Familieneinkommen\", \"Wohnverhaeltnis\"),\n",
    "\n",
    "(\"Wohnverhaeltnis\", \"Tarif\"),\n",
    "\n",
    "(\"Ort\", \"Land\"),\n",
    "(\"Ort\", \"Wohnverhaeltnis\"),\n",
    "\n",
    "(\"Land\", \"Tarif\"),\n",
    "\n",
    "(\"Aktienbesitz\", \"Familieneinkommen\")\n",
    "]\n",
    "model = BayesianModel(net)"
   ]
  },
  {
   "cell_type": "code",
   "execution_count": 5,
   "metadata": {
    "scrolled": true
   },
   "outputs": [],
   "source": [
    "separation = 191\n",
    "train = data[:separation]\n",
    "test = data[separation:]\n",
    "model.fit(train)"
   ]
  },
  {
   "cell_type": "code",
   "execution_count": 6,
   "metadata": {},
   "outputs": [],
   "source": [
    "result = model.predict(test.drop(\"Tarif\", 1))"
   ]
  },
  {
   "cell_type": "code",
   "execution_count": 7,
   "metadata": {},
   "outputs": [
    {
     "data": {
      "text/html": [
       "<div>\n",
       "<style scoped>\n",
       "    .dataframe tbody tr th:only-of-type {\n",
       "        vertical-align: middle;\n",
       "    }\n",
       "\n",
       "    .dataframe tbody tr th {\n",
       "        vertical-align: top;\n",
       "    }\n",
       "\n",
       "    .dataframe thead th {\n",
       "        text-align: right;\n",
       "    }\n",
       "</style>\n",
       "<table border=\"1\" class=\"dataframe\">\n",
       "  <thead>\n",
       "    <tr style=\"text-align: right;\">\n",
       "      <th></th>\n",
       "      <th>Tarif</th>\n",
       "      <th>Expected</th>\n",
       "    </tr>\n",
       "  </thead>\n",
       "  <tbody>\n",
       "    <tr>\n",
       "      <th>191</th>\n",
       "      <td>B</td>\n",
       "      <td>B</td>\n",
       "    </tr>\n",
       "    <tr>\n",
       "      <th>192</th>\n",
       "      <td>A</td>\n",
       "      <td>B</td>\n",
       "    </tr>\n",
       "    <tr>\n",
       "      <th>193</th>\n",
       "      <td>B</td>\n",
       "      <td>B</td>\n",
       "    </tr>\n",
       "    <tr>\n",
       "      <th>194</th>\n",
       "      <td>A</td>\n",
       "      <td>A</td>\n",
       "    </tr>\n",
       "    <tr>\n",
       "      <th>195</th>\n",
       "      <td>A</td>\n",
       "      <td>B</td>\n",
       "    </tr>\n",
       "    <tr>\n",
       "      <th>196</th>\n",
       "      <td>A</td>\n",
       "      <td>A</td>\n",
       "    </tr>\n",
       "    <tr>\n",
       "      <th>197</th>\n",
       "      <td>B</td>\n",
       "      <td>B</td>\n",
       "    </tr>\n",
       "    <tr>\n",
       "      <th>198</th>\n",
       "      <td>A</td>\n",
       "      <td>B</td>\n",
       "    </tr>\n",
       "    <tr>\n",
       "      <th>199</th>\n",
       "      <td>A</td>\n",
       "      <td>B</td>\n",
       "    </tr>\n",
       "    <tr>\n",
       "      <th>200</th>\n",
       "      <td>B</td>\n",
       "      <td>B</td>\n",
       "    </tr>\n",
       "  </tbody>\n",
       "</table>\n",
       "</div>"
      ],
      "text/plain": [
       "    Tarif Expected\n",
       "191     B        B\n",
       "192     A        B\n",
       "193     B        B\n",
       "194     A        A\n",
       "195     A        B\n",
       "196     A        A\n",
       "197     B        B\n",
       "198     A        B\n",
       "199     A        B\n",
       "200     B        B"
      ]
     },
     "execution_count": 7,
     "metadata": {},
     "output_type": "execute_result"
    }
   ],
   "source": [
    "result[\"Expected\"] = data[separation:][\"Tarif\"]\n",
    "result"
   ]
  },
  {
   "cell_type": "code",
   "execution_count": 8,
   "metadata": {},
   "outputs": [
    {
     "data": {
      "text/plain": [
       "0.6"
      ]
     },
     "execution_count": 8,
     "metadata": {},
     "output_type": "execute_result"
    }
   ],
   "source": [
    "tests = len(result)\n",
    "hits = np.where(result[\"Expected\"] == result[\"Tarif\"], [1 for x in range(tests)], [0 for x in range(tests)])\n",
    "sum(hits) / tests"
   ]
  },
  {
   "cell_type": "code",
   "execution_count": null,
   "metadata": {},
   "outputs": [],
   "source": []
  }
 ],
 "metadata": {
  "kernelspec": {
   "display_name": "Python 3",
   "language": "python",
   "name": "python3"
  },
  "language_info": {
   "codemirror_mode": {
    "name": "ipython",
    "version": 3
   },
   "file_extension": ".py",
   "mimetype": "text/x-python",
   "name": "python",
   "nbconvert_exporter": "python",
   "pygments_lexer": "ipython3",
   "version": "3.7.1"
  }
 },
 "nbformat": 4,
 "nbformat_minor": 2
}
