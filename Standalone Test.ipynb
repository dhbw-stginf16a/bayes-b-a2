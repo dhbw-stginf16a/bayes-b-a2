{
 "cells": [
  {
   "cell_type": "code",
   "execution_count": 1,
   "metadata": {},
   "outputs": [],
   "source": [
    "# \"Standalone\" Version"
   ]
  },
  {
   "cell_type": "code",
   "execution_count": 13,
   "metadata": {},
   "outputs": [],
   "source": [
    "import pandas as pd\n",
    "import numpy as np\n",
    "from pgmpy.models import BayesianModel\n",
    "import pgmpy.inference\n",
    "\n",
    "from pgmpy.readwrite.BIF import BIFWriter, BIFReader"
   ]
  },
  {
   "cell_type": "code",
   "execution_count": 8,
   "metadata": {},
   "outputs": [],
   "source": [
    "def normalizeKindAge(age):\n",
    "    if age == \"n.a.\":\n",
    "        return \"n.a.\";\n",
    "    elif int(age) < 10:\n",
    "        return \"<10\"\n",
    "    elif int(age) < 18:\n",
    "        return \"<18\"\n",
    "    elif int(age) < 25:\n",
    "        return \"<25\"\n",
    "    else:\n",
    "        return \">25\"\n",
    "\n",
    "def normalizeIncome(income):\n",
    "    income = int(income)\n",
    "    if income < 20000:\n",
    "        return \"<20000\"\n",
    "    elif income < 40000:\n",
    "        return \"<40000\"\n",
    "    elif income < 80000:\n",
    "        return \"<80000\"\n",
    "    elif income < 100000:\n",
    "        return \"<100000\"\n",
    "    else:\n",
    "        return \">100000\""
   ]
  },
  {
   "cell_type": "code",
   "execution_count": 26,
   "metadata": {},
   "outputs": [],
   "source": [
    "data = pd.read_csv('versicherung_x.csv', delimiter=';')\n",
    "data = data.sample(frac=1).reset_index(drop=True)  # Shuffle data\n",
    "#raw_data.loc[raw_data['aeltestesKind'] != \"n.a.\", 'aeltestesKind'].apply(int).plot.kde()\n",
    "data['aeltestesKind'] = data['aeltestesKind'].apply(normalizeKindAge)\n",
    "data['juengstesKind'] = data['juengstesKind'].apply(normalizeKindAge)\n",
    "data['Familieneinkommen'] = data['Familieneinkommen'].apply(normalizeIncome)"
   ]
  },
  {
   "cell_type": "code",
   "execution_count": 27,
   "metadata": {},
   "outputs": [],
   "source": [
    "def train(model, df, split=0.75):\n",
    "    train = df[:int(len(df) * split)]\n",
    "    model.fit(train, state_names={\"Kinderzahl\": [0, 1, 2, 3, 4]})\n",
    "\n",
    "def evaluate(model, df, split=0.75):\n",
    "    test = df[int(len(df) * (split-1)):]\n",
    "    result = model.predict(test.drop(\"Tarif\", 1))\n",
    "    result[\"Expected\"] = test[\"Tarif\"]\n",
    "    tests = len(result)\n",
    "    hits = np.where(result[\"Expected\"] == result[\"Tarif\"], [1 for x in range(tests)], [0 for x in range(tests)])\n",
    "    print(\"Predicted Tarif with an accuracy of: {}\".format(sum(hits) / tests))\n",
    "    #print(result)"
   ]
  },
  {
   "cell_type": "code",
   "execution_count": 44,
   "metadata": {},
   "outputs": [
    {
     "name": "stdout",
     "output_type": "stream",
     "text": [
      "Predicted Tarif with an accuracy of: 0.84\n"
     ]
    },
    {
     "data": {
      "text/plain": [
       "pgmpy.models.BayesianModel.BayesianModel"
      ]
     },
     "execution_count": 44,
     "metadata": {},
     "output_type": "execute_result"
    }
   ],
   "source": [
    "# Network built with OpenMarkov\n",
    "net = [\n",
    "(\"Altersgruppe\", \"Kinderzahl\"),\n",
    "\n",
    "(\"Verheiratet\", \"Geschlecht\"),\n",
    "(\"Verheiratet\", \"Ort\"),\n",
    "\n",
    "(\"Kinderzahl\", \"juengstesKind\"),\n",
    "(\"Kinderzahl\", \"Verheiratet\"),\n",
    "\n",
    "(\"juengstesKind\", \"aeltestesKind\"),\n",
    "(\"juengstesKind\", \"Ort\"),\n",
    "\n",
    "(\"Bildungsstand\", \"Beruf\"),\n",
    "(\"Bildungsstand\", \"Aktienbesitz\"),\n",
    "(\"Bildungsstand\", \"Wohnverhaeltnis\"),\n",
    "(\"Bildungsstand\", \"Familieneinkommen\"),\n",
    "(\"Bildungsstand\", \"Altersgruppe\"),\n",
    "\n",
    "(\"Familieneinkommen\", \"Altersgruppe\"),\n",
    "\n",
    "(\"Wohnverhaeltnis\", \"Tarif\"),\n",
    "(\"Wohnverhaeltnis\", \"Ort\"),\n",
    "(\"Wohnverhaeltnis\", \"Land\"),\n",
    "\n",
    "(\"Tarif\", \"Land\"),\n",
    "]\n",
    "model = BayesianModel(net)\n",
    "train(model, data)\n",
    "evaluate(model, data)\n",
    "type(model)"
   ]
  },
  {
   "cell_type": "code",
   "execution_count": 45,
   "metadata": {},
   "outputs": [],
   "source": [
    "model_writer = BIFWriter(model)\n",
    "model_writer.get_cpds()\n",
    "model_writer.write_bif(\"test\")"
   ]
  },
  {
   "cell_type": "code",
   "execution_count": 46,
   "metadata": {},
   "outputs": [
    {
     "data": {
      "text/plain": [
       "pgmpy.models.BayesianModel.BayesianModel"
      ]
     },
     "execution_count": 46,
     "metadata": {},
     "output_type": "execute_result"
    }
   ],
   "source": [
    "#model = BIFReader(\"test\").get_model()\n",
    "type(model)\n",
    "\n",
    "#model.predict(data.drop(\"Tarif\", 1))\n",
    "\n",
    "#evaluate(model, data)\n"
   ]
  },
  {
   "cell_type": "code",
   "execution_count": 48,
   "metadata": {},
   "outputs": [],
   "source": [
    "# Pickle Test\n",
    "import pickle\n",
    "pickle.dump(model, open(\"bayesian_model.p\", \"wb\") )"
   ]
  },
  {
   "cell_type": "code",
   "execution_count": 49,
   "metadata": {},
   "outputs": [
    {
     "data": {
      "text/plain": [
       "pgmpy.models.BayesianModel.BayesianModel"
      ]
     },
     "execution_count": 49,
     "metadata": {},
     "output_type": "execute_result"
    }
   ],
   "source": [
    "model_recover = pickle.load(open(\"bayesian_model.p\", \"rb\"))\n",
    "type(model_recover)"
   ]
  },
  {
   "cell_type": "code",
   "execution_count": 50,
   "metadata": {},
   "outputs": [
    {
     "name": "stdout",
     "output_type": "stream",
     "text": [
      "Predicted Tarif with an accuracy of: 0.84\n"
     ]
    }
   ],
   "source": [
    "evaluate(model_recover, data)"
   ]
  },
  {
   "cell_type": "code",
   "execution_count": 75,
   "metadata": {},
   "outputs": [],
   "source": [
    "validation_data = pd.read_csv('versicherung_validation.csv', delimiter=';')\n",
    "validation_data = validation_data.drop(columns=[\"Tarif\"])\n",
    "validation_data['aeltestesKind'] = validation_data['aeltestesKind'].apply(normalizeKindAge)\n",
    "validation_data['juengstesKind'] = validation_data['juengstesKind'].apply(normalizeKindAge)\n",
    "validation_data['Familieneinkommen'] = validation_data['Familieneinkommen'].apply(normalizeIncome)"
   ]
  },
  {
   "cell_type": "code",
   "execution_count": 76,
   "metadata": {},
   "outputs": [
    {
     "data": {
      "text/html": [
       "<div>\n",
       "<style scoped>\n",
       "    .dataframe tbody tr th:only-of-type {\n",
       "        vertical-align: middle;\n",
       "    }\n",
       "\n",
       "    .dataframe tbody tr th {\n",
       "        vertical-align: top;\n",
       "    }\n",
       "\n",
       "    .dataframe thead th {\n",
       "        text-align: right;\n",
       "    }\n",
       "</style>\n",
       "<table border=\"1\" class=\"dataframe\">\n",
       "  <thead>\n",
       "    <tr style=\"text-align: right;\">\n",
       "      <th></th>\n",
       "      <th>Tarif</th>\n",
       "    </tr>\n",
       "  </thead>\n",
       "  <tbody>\n",
       "    <tr>\n",
       "      <th>0</th>\n",
       "      <td>B</td>\n",
       "    </tr>\n",
       "    <tr>\n",
       "      <th>1</th>\n",
       "      <td>B</td>\n",
       "    </tr>\n",
       "  </tbody>\n",
       "</table>\n",
       "</div>"
      ],
      "text/plain": [
       "  Tarif\n",
       "0     B\n",
       "1     B"
      ]
     },
     "execution_count": 76,
     "metadata": {},
     "output_type": "execute_result"
    }
   ],
   "source": [
    "model_recover.predict(validation_data)"
   ]
  },
  {
   "cell_type": "code",
   "execution_count": 91,
   "metadata": {},
   "outputs": [
    {
     "name": "stdout",
     "output_type": "stream",
     "text": [
      "Searching for bayesan_model.p\n",
      " Loading Bayesan Model\n",
      "\n",
      "\n",
      "Success\n",
      "\n",
      "Opening valuation data...\n",
      "\n",
      "Predicting Tarif:\n",
      "\n",
      "\n",
      "  Tarif\n",
      "0     B\n",
      "1     B\n"
     ]
    }
   ],
   "source": [
    "!python programmentwurf.py"
   ]
  },
  {
   "cell_type": "code",
   "execution_count": null,
   "metadata": {},
   "outputs": [],
   "source": []
  }
 ],
 "metadata": {
  "kernelspec": {
   "display_name": "Python 3",
   "language": "python",
   "name": "python3"
  },
  "language_info": {
   "codemirror_mode": {
    "name": "ipython",
    "version": 3
   },
   "file_extension": ".py",
   "mimetype": "text/x-python",
   "name": "python",
   "nbconvert_exporter": "python",
   "pygments_lexer": "ipython3",
   "version": "3.7.1"
  }
 },
 "nbformat": 4,
 "nbformat_minor": 2
}
